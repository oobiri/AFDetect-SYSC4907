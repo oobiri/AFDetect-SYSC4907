{
 "cells": [
  {
   "cell_type": "code",
   "execution_count": 1,
   "metadata": {
    "scrolled": true
   },
   "outputs": [
    {
     "ename": "ModuleNotFoundError",
     "evalue": "No module named 'biosppy'",
     "output_type": "error",
     "traceback": [
      "\u001b[0;31m---------------------------------------------------------------------------\u001b[0m",
      "\u001b[0;31mModuleNotFoundError\u001b[0m                       Traceback (most recent call last)",
      "\u001b[0;32m<ipython-input-1-4be685d5b2ae>\u001b[0m in \u001b[0;36m<module>\u001b[0;34m\u001b[0m\n\u001b[1;32m      1\u001b[0m \u001b[0;32mimport\u001b[0m \u001b[0mnumpy\u001b[0m \u001b[0;32mas\u001b[0m \u001b[0mnp\u001b[0m\u001b[0;34m\u001b[0m\u001b[0;34m\u001b[0m\u001b[0m\n\u001b[0;32m----> 2\u001b[0;31m \u001b[0;32mfrom\u001b[0m \u001b[0mbiosppy\u001b[0m\u001b[0;34m.\u001b[0m\u001b[0msignals\u001b[0m \u001b[0;32mimport\u001b[0m \u001b[0mecg\u001b[0m\u001b[0;34m\u001b[0m\u001b[0;34m\u001b[0m\u001b[0m\n\u001b[0m\u001b[1;32m      3\u001b[0m \u001b[0;32mimport\u001b[0m \u001b[0mcsv\u001b[0m\u001b[0;34m\u001b[0m\u001b[0;34m\u001b[0m\u001b[0m\n",
      "\u001b[0;31mModuleNotFoundError\u001b[0m: No module named 'biosppy'"
     ]
    }
   ],
   "source": [
    "import numpy as np\n",
    "from biosppy.signals import ecg\n",
    "import csv"
   ]
  },
  {
   "cell_type": "code",
   "execution_count": 2,
   "metadata": {},
   "outputs": [],
   "source": [
    "def extract_features(signal):\n",
    "    sampling_rate = 300\n",
    "    ts, signal, rpeaks, templates_ts, templates, heart_rate_ts, heart_rates = ecg.ecg(signal = signal, sampling_rate = sampling_rate, show=False)\n",
    "    rpeaks = ecg.hamilton_segmenter(signal=signal, sampling_rate=sampling_rate)[0]\n",
    "    heartbeat_templates, heartbeat_rpeaks = ecg.extract_heartbeats(signal=signal, rpeaks=rpeaks, sampling_rate=sampling_rate)\n",
    "    \n",
    "     # Full Waveform Features - Amplitude \n",
    "    min_amp = np.amin(signal)\n",
    "    max_amp = np.amax(signal)\n",
    "    mean_amp = np.mean(signal)\n",
    "    median_amp = np.median(signal)\n",
    "    std_amp = np.std(signal)\n",
    "    \n",
    "    #RRI Features\n",
    "    rpeaks_vel = np.diff(rpeaks)\n",
    "    rpeaks_accel = np.diff(rpeaks_velocity)\n",
    "    heartbeat_rpeaks_vel = np.diff(heartbeat_rpeaks)\n",
    "    \n",
    "    # HRV \n",
    "    max_heart_rate = np.amax(heart_rates)\n",
    "    min_heart_rate = np.amin(heart_rates)\n",
    "    mean_heart_rate = np.mean(heart_rates)\n",
    "    median_heart_rate = np.median(heart_rates)\n",
    "    std_heart_rate = np.std(heart_rates)\n",
    "    \n",
    "    min_rpeaks_vel = np.amin(rpeaks_vel)\n",
    "    max_rpeaks_vel = np.amax(rpeaks_vel)\n",
    "    median_rpeaks_vel = np.median(rpeaks_vel)\n",
    "    mean_rpeaks_vel = np.mean(rpeaks_vel)\n",
    "    std_rpeaks_vel = np.std(rpeaks_vel)\n",
    "    \n",
    "    min_rpeaks_accel = np.amin(rpeaks_accel)\n",
    "    max_rpeaks_accel = np.amax(rpeaks_accel)\n",
    "    median_rpeaks_accel = np.median(rpeaks_accel)\n",
    "    mean_rpeaks_accel = np.mean(rpeaks_accel)\n",
    "    std_rpeaks_accel = np.std(rpeaks_accel)\n",
    "    \n",
    "    #Template Feautres \n",
    "    \n",
    "    \n",
    "    #Non-Linear Features\n",
    "    \n",
    "    training_features = [min_amp, max_amp, mean_amp, median_amp, max_heart_rate, min_heart_rate, std_heart_rate, min_rpeaks_vel, max_rpeaks_vel, median_rpeaks_vel, mean_rpeaks_vel, std_rpeaks_vel, min_rpeaks_accel, max_rpeaks_accel, median_rpeaks_accel, mean_rpeaks_accel,  std_rpeaks_accel]\n",
    "    \n",
    "    feature.append(trainging_features)\n",
    "    \n",
    "    return feature\n",
    "\n"
   ]
  },
  {
   "cell_type": "code",
   "execution_count": null,
   "metadata": {},
   "outputs": [],
   "source": [
    "def main():\n",
    "    "
   ]
  }
 ],
 "metadata": {
  "kernelspec": {
   "display_name": "Python 3",
   "language": "python",
   "name": "python3"
  },
  "language_info": {
   "codemirror_mode": {
    "name": "ipython",
    "version": 3
   },
   "file_extension": ".py",
   "mimetype": "text/x-python",
   "name": "python",
   "nbconvert_exporter": "python",
   "pygments_lexer": "ipython3",
   "version": "3.7.2"
  }
 },
 "nbformat": 4,
 "nbformat_minor": 4
}
