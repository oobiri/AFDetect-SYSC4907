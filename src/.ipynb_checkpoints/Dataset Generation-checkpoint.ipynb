{
 "cells": [
  {
   "cell_type": "code",
   "execution_count": 1,
   "metadata": {},
   "outputs": [],
   "source": [
    "import matplotlib.pyplot as plt\n",
    "import numpy \n",
    "import pandas \n",
    "import seaborn \n",
    "import peakutils\n",
    "import wfdb\n",
    "import pywt\n",
    "import scipy.signal as signal"
   ]
  },
  {
   "cell_type": "code",
   "execution_count": 2,
   "metadata": {},
   "outputs": [],
   "source": [
    "def beat_annotations(annotation):\n",
    "    \"\"\"Get rid of non-beat markers\"\"\"\n",
    "    # Declare beat types\n",
    "    good = ['N', 'L', 'R', 'B', 'A','a', 'J', 'S', 'V', 'r', 'F', 'e', 'j', 'n', 'E', '/', 'f', 'Q', '?']\n",
    "    ids = numpy.in1d(annotation.aux_note, good)\n",
    "    \n",
    "    # Only need to know the positions\n",
    "    beats = annotation.sample[ids]\n",
    "    \n",
    "    return beats"
   ]
  },
  {
   "cell_type": "code",
   "execution_count": 3,
   "metadata": {},
   "outputs": [],
   "source": [
    "def convert_input(channel, annotation):\n",
    "    \"\"\"Into output\"\"\"\n",
    "    \n",
    "    #Remove non-beat annotations \n",
    "    beats = beat_annotations(annotation)\n",
    "    \n",
    "    #Create dirac-comb signal **********\n",
    "    dirac = numpy.zeros_like(channel)\n",
    "    dirac[beats] = 1,0\n",
    "    \n",
    "    #Hamming window as a bell-curve filter\n",
    "    width = 36\n",
    "    kernal = signal.hamming(width)\n",
    "    gauss = numpy.convolve(kernel, dirac, mode = 'same')\n",
    "    \n",
    "    return dirac, gauss"
   ]
  },
  {
   "cell_type": "code",
   "execution_count": null,
   "metadata": {},
   "outputs": [],
   "source": [
    "def convert_data(data, annotations, width):\n",
    "    "
   ]
  },
  {
   "cell_type": "code",
   "execution_count": 4,
   "metadata": {},
   "outputs": [],
   "source": [
    "def make_dataset(records, savepath):\n",
    "    \"\"\"Inside an array\"\"\"\n",
    "    \n",
    "    #prepare containers\n",
    "    signals, labels = [], []\n",
    "    \n",
    "    #Iterate through files\n",
    "    for path in records:\n",
    "        record = wfdb.rdrecord(path)\n",
    "        annotations = wfdb.rdann(path, 'atr')\n",
    "        \n",
    "        \n",
    "        # Pure signals are extracted\n",
    "        data = record.p_signal\n",
    "        \n",
    "        #Each channel is converted into labeled fragments\n",
    "        signal, label = convert_data(data, annotations)\n",
    "        \n",
    "        # Signals and labels are compiled\n",
    "        signals.append(signal)\n",
    "        labels.append(label)\n",
    "        \n",
    "    # Convert to an array \n",
    "    signals = numpy.array(signals)\n",
    "    labels = numpy.array(labels)\n",
    "    \n",
    "    # Dataset saved to disk\n",
    "    numpy.save(savepath, {'signals': signals, 'labels': labels})\n",
    "    \n",
    "    "
   ]
  },
  {
   "cell_type": "code",
   "execution_count": null,
   "metadata": {},
   "outputs": [],
   "source": [
    "def create_datasets():\n",
    "    \"\"\"Training, validation test\"\"\"\n",
    "    \n",
    "    "
   ]
  }
 ],
 "metadata": {
  "kernelspec": {
   "display_name": "Python 3",
   "language": "python",
   "name": "python3"
  },
  "language_info": {
   "codemirror_mode": {
    "name": "ipython",
    "version": 3
   },
   "file_extension": ".py",
   "mimetype": "text/x-python",
   "name": "python",
   "nbconvert_exporter": "python",
   "pygments_lexer": "ipython3",
   "version": "3.7.2"
  }
 },
 "nbformat": 4,
 "nbformat_minor": 4
}
