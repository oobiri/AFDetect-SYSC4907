{
 "cells": [
  {
   "cell_type": "code",
   "execution_count": 1,
   "metadata": {},
   "outputs": [],
   "source": [
    "import numpy as np \n",
    "import scipy as sc \n",
    "import h5py \n",
    "import seaborn as sns\n",
    "import scipy as sc \n",
    "import os\n",
    "import pandas as pd\n",
    "import peakutils\n",
    "import wfdb\n",
    "import pywt\n",
    "import matplotlib.pyplot as plt"
   ]
  },
  {
   "cell_type": "code",
   "execution_count": 3,
   "metadata": {},
   "outputs": [],
   "source": [
    "dataPath = '/Users/oobiri/Documents/Carleton/AFDetect/data/training/'\n",
    "signalFile = os.path.join(dataPath, 'physio.h5')\n",
    "labelFile = os.path.join(dataPath, 'REFERENCE-v3.csv')"
   ]
  },
  {
   "cell_type": "code",
   "execution_count": 5,
   "metadata": {},
   "outputs": [
    {
     "name": "stdout",
     "output_type": "stream",
     "text": [
      "  label  recordings  percent\n",
      "0     A         758        9\n",
      "1     N        5076       60\n",
      "2     O        2415       28\n",
      "3     ~         279        3\n"
     ]
    }
   ],
   "source": [
    "df = pd.read_csv(labelFile, header = None, names = ['name', 'label'])\n",
    "df_stat = df.groupby('label').agg('count').reset_index()\n",
    "df_stat.columns = ['label', 'recordings']\n",
    "df_stat = df_stat.assign(percent = (100 * np.around(df_stat.recordings/df.shape[0],2)).astype(np.int))\n",
    "print(df_stat)\n",
    "df_Set = list(df.label.unique())"
   ]
  },
  {
   "cell_type": "code",
   "execution_count": null,
   "metadata": {},
   "outputs": [],
   "source": []
  }
 ],
 "metadata": {
  "kernelspec": {
   "display_name": "Python 3",
   "language": "python",
   "name": "python3"
  },
  "language_info": {
   "codemirror_mode": {
    "name": "ipython",
    "version": 3
   },
   "file_extension": ".py",
   "mimetype": "text/x-python",
   "name": "python",
   "nbconvert_exporter": "python",
   "pygments_lexer": "ipython3",
   "version": "3.7.2"
  }
 },
 "nbformat": 4,
 "nbformat_minor": 4
}
