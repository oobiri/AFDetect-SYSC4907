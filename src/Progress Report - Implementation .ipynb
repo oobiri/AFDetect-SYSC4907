{
 "cells": [
  {
   "cell_type": "code",
   "execution_count": 3,
   "metadata": {},
   "outputs": [],
   "source": [
    "#Libraries\n",
    "import pandas as pd\n",
    "import numpy as np\n",
    "import matplotlib.pyplot as plt\n",
    "from os import listdir\n",
    "import seaborn \n",
    "import peakutils\n",
    "import wfdb\n",
    "import pywt"
   ]
  },
  {
   "cell_type": "code",
   "execution_count": 4,
   "metadata": {},
   "outputs": [],
   "source": [
    "#Path of dataset on local machine\n",
    "dataPath = '/Users/oobiri/Documents/Carleton/AFDetect/data/ltaf/'"
   ]
  },
  {
   "cell_type": "code",
   "execution_count": 5,
   "metadata": {},
   "outputs": [],
   "source": [
    "# Function that gets all patient Ids from the dataset\n",
    "def get_ids(filePath):\n",
    "    patientIds = []\n",
    "    \n",
    "    for filename in listdir(filePath):\n",
    "        if filename.endswith(\".dat\") and '04936' not in filename and '05091' not in filename:\n",
    "            newName = filename.replace('.dat','')\n",
    "            patientIds.append(newName)\n",
    "        else:\n",
    "            continue\n",
    "        \n",
    "    return patientIds"
   ]
  },
  {
   "cell_type": "code",
   "execution_count": 13,
   "metadata": {},
   "outputs": [
    {
     "name": "stdout",
     "output_type": "stream",
     "text": [
      "['207', '58', '64', '70', '71', '65', '206', '204', '72', '205', '201', '62', '200', '202', '75', '49', '48', '74', '60', '203', '07', '13', '112', '113', '12', '06', '38', '10', '111', '105', '104', '110', '05', '11', '39', '15', '01', '114', '100', '101', '115', '28', '00', '16', '103', '117', '116', '102', '17', '03', '26', '32', '33', '19', '25', '118', '119', '24', '30', '18', '34', '20', '08', '121', '120', '21', '35', '23', '37', '122', '22', '45', '51', '44', '47', '53', '208', '43', '42', '56', '54', '68', '69', '55']\n"
     ]
    }
   ],
   "source": [
    "pIds = get_ids(dataPath)\n",
    "print(pIds)"
   ]
  },
  {
   "cell_type": "code",
   "execution_count": 7,
   "metadata": {},
   "outputs": [],
   "source": [
    "def create_dataframe(data_path, p_ids):\n",
    "    df = pd.DataFrame()\n",
    "\n",
    "    for pi in p_ids:\n",
    "        file = dataPath + pi\n",
    "        annotation = wfdb.rdann(file, 'atr')\n",
    "        sym = annotation.symbol\n",
    "    \n",
    "        values, counts = np.unique(sym, return_counts=True)\n",
    "        df_sub = pd.DataFrame({'sym':values, 'val':counts, 'pi':[pi]*len(counts)})\n",
    "        df = pd.concat([df, df_sub], axis = 0)\n",
    "        \n",
    "    return df"
   ]
  },
  {
   "cell_type": "code",
   "execution_count": 8,
   "metadata": {},
   "outputs": [],
   "source": [
    "df = create_dataframe(dataPath,pIds)"
   ]
  },
  {
   "cell_type": "code",
   "execution_count": 14,
   "metadata": {},
   "outputs": [
    {
     "data": {
      "text/plain": [
       "sym\n",
       "N    8710873\n",
       "A     152332\n",
       "V     132679\n",
       "+      53704\n",
       "\"       5959\n",
       "Q         89\n",
       "Name: val, dtype: int64"
      ]
     },
     "execution_count": 14,
     "metadata": {},
     "output_type": "execute_result"
    }
   ],
   "source": [
    "df.groupby('sym').val.sum().sort_values(ascending = False)"
   ]
  },
  {
   "cell_type": "code",
   "execution_count": 16,
   "metadata": {},
   "outputs": [],
   "source": [
    "# list of nonbeat and non-AF\n",
    "nonBeat = [\"[\", \"!\", \"]\", \"x\", \"(\", \")\", \"p\", \"t\", \"u\", \"`\", \"'\", \"^\", \"|\", \"~\", \"+\", \n",
    "           \"s\", \"T\", \"*\", \"D\", \"=\", '\"', \"@\"]\n",
    "nonAf = [\"L\", \"R\", \"B\", \"N\", \"a\", \"J\", \"S\", \"V\", \"r\", \"F\", \"e\", \"j\", \"n\", \"E\", \"/\", \"f\", \"Q\", \"?\"]"
   ]
  },
  {
   "cell_type": "code",
   "execution_count": 17,
   "metadata": {},
   "outputs": [],
   "source": [
    "# Split into AF, non-AF or nonbeat\n",
    "df['cat'] = -1 \n",
    "df.loc[df.sym == 'A', 'cat'] = 0 \n",
    "df.loc[df.sym.isin(nonAf), 'cat'] = 1 "
   ]
  },
  {
   "cell_type": "code",
   "execution_count": 18,
   "metadata": {},
   "outputs": [
    {
     "data": {
      "text/plain": [
       "cat\n",
       "-1      59663\n",
       " 0     152332\n",
       " 1    8843641\n",
       "Name: val, dtype: int64"
      ]
     },
     "execution_count": 18,
     "metadata": {},
     "output_type": "execute_result"
    }
   ],
   "source": [
    "df.groupby('cat').val.sum()"
   ]
  },
  {
   "cell_type": "code",
   "execution_count": 19,
   "metadata": {},
   "outputs": [],
   "source": [
    "gf = df.groupby('cat').val.sum()"
   ]
  },
  {
   "cell_type": "code",
   "execution_count": 21,
   "metadata": {},
   "outputs": [
    {
     "data": {
      "image/png": "[encoded data removed]",
      "text/plain": [
       "<Figure size 1440x720 with 1 Axes>"
      ]
     },
     "metadata": {},
     "output_type": "display_data"
    }
   ],
   "source": [
    "plt.figure(figsize=(20,10))\n",
    "myCircle = plt.Circle((0,0),0.7,color='white')\n",
    "plt.pie(gf, labels = ['Nonbeat', 'AF', 'Non-AF'], colors=['green','red', 'blue'],autopct='%1.1f%%')\n",
    "p=plt.gcf()\n",
    "p.gca().add_artist(myCircle)\n",
    "plt.show()"
   ]
  },
  {
   "cell_type": "code",
   "execution_count": 1,
   "metadata": {},
   "outputs": [],
   "source": [
    "# Function that loads a patient's signls and annotations\n",
    "def load_ecg(file):\n",
    "    record = wfdb.rdrecord(file)\n",
    "    annotation = wfdb.rdann(file, 'atr')\n",
    "    \n",
    "    p_signal = record.p_signal\n",
    "    \n",
    "    ann_sym = annotation.symbol\n",
    "    ann_sample = annotation.sample\n",
    "    \n",
    "    return p_signal, ann_sym, ann_sample"
   ]
  },
  {
   "cell_type": "code",
   "execution_count": 14,
   "metadata": {},
   "outputs": [],
   "source": [
    "file = dataPath + pIds[1]"
   ]
  },
  {
   "cell_type": "code",
   "execution_count": 15,
   "metadata": {},
   "outputs": [],
   "source": [
    "p_signal, atr_sym, atr_sample = load_ecg(file)"
   ]
  },
  {
   "cell_type": "code",
   "execution_count": 16,
   "metadata": {},
   "outputs": [
    {
     "name": "stdout",
     "output_type": "stream",
     "text": [
      "\" 1\n",
      "+ 1866\n",
      "A 14590\n",
      "N 92785\n",
      "V 863\n"
     ]
    }
   ],
   "source": [
    "values, counts = np.unique(atr_sym, return_counts=True)\n",
    "for v,c in zip(values, counts):\n",
    "    print(v, c)"
   ]
  },
  {
   "cell_type": "code",
   "execution_count": 17,
   "metadata": {},
   "outputs": [
    {
     "data": {
      "text/plain": [
       "[28812, 29841, 30839, 31611, 32388, 36300, 43491, 44135, 45836, 46585]"
      ]
     },
     "execution_count": 17,
     "metadata": {},
     "output_type": "execute_result"
    }
   ],
   "source": [
    "#get AF beat index \n",
    "af_index = [b for a, b in zip(atr_sym, atr_sample) if a == 'A'][:10]\n",
    "af_index"
   ]
  },
  {
   "cell_type": "code",
   "execution_count": 19,
   "metadata": {},
   "outputs": [],
   "source": [
    "x = np.arange(len(p_signal))"
   ]
  },
  {
   "cell_type": "code",
   "execution_count": 20,
   "metadata": {},
   "outputs": [
    {
     "data": {
      "image/png": "[encoded data removed]",
      "text/plain": [
       "<Figure size 432x288 with 1 Axes>"
      ]
     },
     "metadata": {
      "needs_background": "light"
     },
     "output_type": "display_data"
    }
   ],
   "source": [
    "left = af_index[1]-1080\n",
    "right = af_index[1]+1080\n",
    "\n",
    "plt.plot(x[left:right],p_signal[left:right,0],'-',label='ecg',)\n",
    "plt.plot(x[atr_sample],p_signal[atr_sample,0],'go',label ='normal')\n",
    "plt.plot(x[af_index],p_signal[af_index,0],'ro',label='AF')\n",
    "\n",
    "plt.xlim(left,right)\n",
    "plt.ylim(p_signal[left:right].min()-0.05,p_signal[left:right,0].max()+0.05)\n",
    "plt.xlabel('time index')\n",
    "plt.ylabel('ECG signal')\n",
    "plt.legend(bbox_to_anchor = (1.04,1), loc = 'upper left')\n",
    "plt.show()"
   ]
  },
  {
   "cell_type": "code",
   "execution_count": null,
   "metadata": {},
   "outputs": [],
   "source": []
  }
 ],
 "metadata": {
  "kernelspec": {
   "display_name": "Python 3",
   "language": "python",
   "name": "python3"
  },
  "language_info": {
   "codemirror_mode": {
    "name": "ipython",
    "version": 3
   },
   "file_extension": ".py",
   "mimetype": "text/x-python",
   "name": "python",
   "nbconvert_exporter": "python",
   "pygments_lexer": "ipython3",
   "version": "3.7.2"
  }
 },
 "nbformat": 4,
 "nbformat_minor": 4
}
